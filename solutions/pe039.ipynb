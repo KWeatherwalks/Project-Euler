{
 "cells": [
  {
   "cell_type": "markdown",
   "metadata": {},
   "source": [
    "# Integer right triangles\n",
    "## Problem 39\n",
    "If $p$ is the perimeter of a right angle triangle with integral length sides, $\\{a,b,c\\}$, there are exactly three solutions for $p = 120$.\n",
    "\n",
    "$$\\{20,48,52\\}, \\{24,45,51\\}, \\{30,40,50\\}$$\n",
    "\n",
    "For which value of $p ≤ 1000$, is the number of solutions maximised?"
   ]
  },
  {
   "cell_type": "markdown",
   "metadata": {},
   "source": [
    "### Thinking about the problem\n",
    "Since the objects that we are interested in are right triangles, we naturally should consider the Pythagorean Theorem.  \n",
    "The perimeter of a right triangle, with integral side lengths $a,b,$ and $c$, can be found with the expression $a+b+c$.  \n",
    "\n",
    "We can leverage the fact that there is an upper bound placed on the perimeter.\n",
    "Let $\\partial$ denote the perimeter. For this particular problem we will let $\\partial=1000$ so that $p\\le\\partial=1000$."
   ]
  },
  {
   "cell_type": "markdown",
   "metadata": {},
   "source": [
    "### Pythagorean Triples\n",
    "There is a clever way to find Pythagorean Triples (3-tuples, $(a,b,c)$ of integers satisfying $a^2+b^2=c^2$.  \n",
    "Let $a:= m^2-n^2 , \\quad b:=2mn, \\quad c:=m^2+n^2$ for integers $m,n$. Then, we can just choose integers which fit the conditions here.\n",
    "\n",
    "That is, we need to satisfy $m^2-n^2 + 2mn + m^2+n^2 = 2m(m+n) \\le \\partial$.\n",
    "\n",
    "*Unfortunately, this won't solve the problem since picking integers m and n does not create ALL of the Pythagorean triples. That is, there exist 3-tuples satisfying the Pythagorean Theorem that can't be arrived at by picking any combination of integers m and n.*"
   ]
  },
  {
   "cell_type": "markdown",
   "metadata": {},
   "source": [
    "Let's try a brute-force approach.\n",
    "\n",
    "#### Q: What is the largest that $a^2+b^2$ can be given a bound on the perimeter?\n",
    "From $a+b+c=p$ we have $c=p-a-b$.  \n",
    "Then $c^2 = (p-(a+b))^2$.  \n",
    "But, we need to satisfy $a^2+b^2 = c^2$.  \n",
    "Thus, $a^2 + b^2 = (p-(a+b))^2$. So the maximum for $a^2+b^2$ must be $(p-2)^2$"
   ]
  },
  {
   "cell_type": "code",
   "execution_count": null,
   "metadata": {},
   "outputs": [],
   "source": [
    "# BAD!\n",
    "# Brute force with loops (takes too long!!)\n",
    "def num_sols(p):\n",
    "    # p: perimeter\n",
    "    num_sols = 0\n",
    "    for a in range(1,p-1):\n",
    "        for b in range(1,p-1):\n",
    "            if (a**2+b**2 == (p-a-b)**2):\n",
    "                num_sols += 1\n",
    "    return int(num_sols/2)"
   ]
  },
  {
   "cell_type": "code",
   "execution_count": null,
   "metadata": {},
   "outputs": [],
   "source": [
    "# Slightly better\n",
    "# Brute force with list comprehension (returns double the number of solutions!)\n",
    "def num_sols(p):\n",
    "    num_sols = sum([a**2+b**2==(p-a-b)**2 for a in range(1,p-1) for b in range(1,p-1)])/2\n",
    "    return int(num_sols)"
   ]
  },
  {
   "cell_type": "code",
   "execution_count": 76,
   "metadata": {},
   "outputs": [],
   "source": [
    "# Slightly better still\n",
    "# Brute force with list comprehension (using one loop variable as a bound for the other)\n",
    "# Takes a minute or two but does the job\n",
    "def num_sols(p):\n",
    "    num_sols = sum([a**2+b**2==(p-a-b)**2 for a in range(1,p-1) for b in range(1,a)])\n",
    "    return num_sols"
   ]
  },
  {
   "cell_type": "code",
   "execution_count": 77,
   "metadata": {},
   "outputs": [],
   "source": [
    "def best_perimeter(max_p):\n",
    "    max_sols = 0\n",
    "    best_p = None\n",
    "    for p in range(3, max_p+1):\n",
    "        n_sols = num_sols(p)\n",
    "        if n_sols>max_sols:\n",
    "            max_sols = n_sols\n",
    "            best_p = p\n",
    "    return best_p, max_sols"
   ]
  },
  {
   "cell_type": "code",
   "execution_count": 81,
   "metadata": {},
   "outputs": [
    {
     "name": "stdout",
     "output_type": "stream",
     "text": [
      "(840, 8)\n"
     ]
    }
   ],
   "source": [
    "print(best_perimeter(1000))"
   ]
  },
  {
   "cell_type": "markdown",
   "metadata": {},
   "source": [
    "This approach works but it takes a long time (over a minute).\n",
    "\n",
    "## Solution\n",
    "Here is a solution from user **_darky_** in [thread 39](https://projecteuler.net/thread=39;page=9):  \n",
    "\n",
    "We can generate all primitive Pythagorean Triplets $(a,b,c)$ with \n",
    "\n",
    "$$a=v^2−u^2,$$\n",
    "$$b=2uv,$$\n",
    "$$c=v^2+u^2,$$\n",
    "\n",
    "where $v>u$, $v$ and $u$ are not both odd, and $\\gcd(v,u)=1$. \n",
    "\n",
    "Let $a+b+c=P$, then $P=2v2+2uv$. Because this is a primitive Pythagorean Triplet, we can multiply it by a factor $m$ (because $(ma,mb,mc)$ gives $m(a+b+c)=m⋅P$) to generate all the multiples up to $P≤1000$. \n",
    "\n",
    "It calculates $P$ immediately and increments the solutions for this found $P$ by 1. The resulting array contains how many times a solution has been found for a given index."
   ]
  },
  {
   "cell_type": "code",
   "execution_count": 89,
   "metadata": {},
   "outputs": [
    {
     "name": "stdout",
     "output_type": "stream",
     "text": [
      "Requirement already up-to-date: eulerlib in c:\\users\\kweat\\anaconda3\\lib\\site-packages (0.2)\n"
     ]
    }
   ],
   "source": [
    "#!pip install --upgrade eulerlib"
   ]
  },
  {
   "cell_type": "code",
   "execution_count": 102,
   "metadata": {},
   "outputs": [],
   "source": [
    "import eulerlib as el\n",
    "def integer_right_triangles(n):\n",
    "    solutions = [0] * (n + 1)\n",
    "    v = 2\n",
    "    u = 1\n",
    "    p = 12  # [3, 4, 5] has perimeter 12\n",
    "    while u**2 <= n:\n",
    "        if p <= n and not (v%2==1 and u%2==1) and el.gcd(u, v) == 1:\n",
    "            # u, v combination is a primitive triplet\n",
    "            m = 1\n",
    "            q = p\n",
    "            # find all multiples and increment solutions\n",
    "            while q <= n:\n",
    "                solutions[q] += 1\n",
    "                m += 1\n",
    "                q = m * p\n",
    "        u += 1\n",
    "        if u >= v:\n",
    "            v += 1\n",
    "            u = 1\n",
    "        p = 2*v**2 + 2*u*v  # calculate perimeter\n",
    "\n",
    "    res = solutions.index(max(solutions))\n",
    "    print('There are {} solutions for P={}'.format(solutions[res], res))\n",
    "    return res"
   ]
  },
  {
   "cell_type": "code",
   "execution_count": 103,
   "metadata": {},
   "outputs": [
    {
     "name": "stdout",
     "output_type": "stream",
     "text": [
      "There are 8 solutions for P=840\n"
     ]
    },
    {
     "data": {
      "text/plain": [
       "840"
      ]
     },
     "execution_count": 103,
     "metadata": {},
     "output_type": "execute_result"
    }
   ],
   "source": [
    "integer_right_triangles(1000)"
   ]
  },
  {
   "cell_type": "code",
   "execution_count": 97,
   "metadata": {},
   "outputs": [
    {
     "data": {
      "text/plain": [
       "['Divisors',\n",
       " '__all__',\n",
       " '__builtins__',\n",
       " '__cached__',\n",
       " '__doc__',\n",
       " '__file__',\n",
       " '__loader__',\n",
       " '__name__',\n",
       " '__package__',\n",
       " '__path__',\n",
       " '__spec__',\n",
       " '_exceptions',\n",
       " 'collapse_lists',\n",
       " 'decimal_to_base',\n",
       " 'digital_root',\n",
       " 'digital_sum',\n",
       " 'etc',\n",
       " 'fibo_gen',\n",
       " 'fibo_less_than',\n",
       " 'fibo_num_digits',\n",
       " 'fibonacci',\n",
       " 'first_n_fibo',\n",
       " 'gcd',\n",
       " 'is_palindrome',\n",
       " 'is_pandigital',\n",
       " 'is_prime',\n",
       " 'is_square',\n",
       " 'lcm',\n",
       " 'lcm_n',\n",
       " 'list_to_num',\n",
       " 'nCr',\n",
       " 'nPr',\n",
       " 'num_to_list',\n",
       " 'numtheory',\n",
       " 'prime_gen',\n",
       " 'prime_numbers',\n",
       " 'prime_wheel_fact_gen',\n",
       " 'primes',\n",
       " 'primes_wheel_fact',\n",
       " 'primitive_triples',\n",
       " 'pythagoras',\n",
       " 'triplet_gen',\n",
       " 'word_numerical_val',\n",
       " 'write_number']"
      ]
     },
     "execution_count": 97,
     "metadata": {},
     "output_type": "execute_result"
    }
   ],
   "source": [
    "dir(el)"
   ]
  },
  {
   "cell_type": "code",
   "execution_count": null,
   "metadata": {},
   "outputs": [],
   "source": []
  }
 ],
 "metadata": {
  "kernelspec": {
   "display_name": "Python 3",
   "language": "python",
   "name": "python3"
  },
  "language_info": {
   "codemirror_mode": {
    "name": "ipython",
    "version": 3
   },
   "file_extension": ".py",
   "mimetype": "text/x-python",
   "name": "python",
   "nbconvert_exporter": "python",
   "pygments_lexer": "ipython3",
   "version": "3.7.3"
  }
 },
 "nbformat": 4,
 "nbformat_minor": 2
}
