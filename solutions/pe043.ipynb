{
 "cells": [
  {
   "cell_type": "markdown",
   "metadata": {},
   "source": [
    "# Sub-string divisibility\n",
    "## Problem 43\n",
    "The number, $1406357289$, is a 0 to 9 pandigital number because it is made up of each of the digits 0 to 9 in some order, but it also has a rather interesting sub-string divisibility property.\n",
    "\n",
    "Let $d_1$ be the 1st digit, $d_2$ be the 2nd digit, and so on. In this way, we note the following:\n",
    "\n",
    "$d_2d_3d_4$=406 is divisible by 2  \n",
    "$d_3d_4d_5$=063 is divisible by 3  \n",
    "$d_4d_5d_6$=635 is divisible by 5  \n",
    "$d_5d_6d_7$=357 is divisible by 7  \n",
    "$d_6d_7d_8$=572 is divisible by 11  \n",
    "$d_7d_8d_9$=728 is divisible by 13  \n",
    "$d_8d_9d_{10}$=289 is divisible by 17  \n",
    "Find the sum of all 0 to 9 pandigital numbers with this property."
   ]
  },
  {
   "cell_type": "code",
   "execution_count": 24,
   "metadata": {},
   "outputs": [],
   "source": [
    "from itertools import permutations"
   ]
  },
  {
   "cell_type": "code",
   "execution_count": 8,
   "metadata": {},
   "outputs": [
    {
     "data": {
      "text/plain": [
       "406357289"
      ]
     },
     "execution_count": 8,
     "metadata": {},
     "output_type": "execute_result"
    }
   ],
   "source": [
    "int('1406357289'[1:10])"
   ]
  },
  {
   "cell_type": "code",
   "execution_count": 19,
   "metadata": {},
   "outputs": [],
   "source": [
    "def has_property(num_str):\n",
    "    primes = [2,3,5,7,11,13,17]\n",
    "#     d234 = int(num_str[1:4])\n",
    "#     d345 = int(num_str[2:5])\n",
    "#     d456 = int(num_str[3:6])\n",
    "#     d567 = int(num_str[4:7])\n",
    "#     d678 = int(num_str[5:8])\n",
    "#     d789 = int(num_str[6:9])\n",
    "#     d890 = int(num_str[7:])\n",
    "    for i,p in enumerate(primes):\n",
    "        if (int(num_str[i+1:i+4]) % p != 0):\n",
    "            return False\n",
    "    return True"
   ]
  },
  {
   "cell_type": "code",
   "execution_count": 41,
   "metadata": {},
   "outputs": [
    {
     "data": {
      "text/plain": [
       "False"
      ]
     },
     "execution_count": 41,
     "metadata": {},
     "output_type": "execute_result"
    }
   ],
   "source": [
    "has_property(146357289)"
   ]
  },
  {
   "cell_type": "code",
   "execution_count": 46,
   "metadata": {},
   "outputs": [
    {
     "name": "stdout",
     "output_type": "stream",
     "text": [
      "adding 1430952867\n",
      "permutations tested 90629 of 3628800\n",
      "adding 1460357289\n",
      "permutations tested 100231 of 3628800\n",
      "adding 1406357289\n",
      "permutations tested 118231 of 3628800\n",
      "adding 4130952867\n",
      "permutations tested 1098629 of 3628800\n",
      "adding 4160357289\n",
      "permutations tested 1108231 of 3628800\n",
      "adding 4106357289\n",
      "permutations tested 1126231 of 3628800\n"
     ]
    }
   ],
   "source": [
    "pan_prime_divisors = []\n",
    "count=0\n",
    "for perm in permutations('1234567890'):\n",
    "    num_str = ''.join(perm)\n",
    "    count+=1\n",
    "    if has_property(num_str):\n",
    "        print('adding {}'.format(num_str))\n",
    "        print('permutations tested {} of 3628800'.format(count))\n",
    "        pan_prime_divisors.append(int(num_str))"
   ]
  },
  {
   "cell_type": "code",
   "execution_count": 43,
   "metadata": {},
   "outputs": [
    {
     "data": {
      "text/plain": [
       "6"
      ]
     },
     "execution_count": 43,
     "metadata": {},
     "output_type": "execute_result"
    }
   ],
   "source": [
    "len(pan_prime_divisors)"
   ]
  },
  {
   "cell_type": "code",
   "execution_count": 44,
   "metadata": {},
   "outputs": [
    {
     "data": {
      "text/plain": [
       "16695334890"
      ]
     },
     "execution_count": 44,
     "metadata": {},
     "output_type": "execute_result"
    }
   ],
   "source": [
    "sum(pan_prime_divisors)"
   ]
  },
  {
   "cell_type": "code",
   "execution_count": null,
   "metadata": {},
   "outputs": [],
   "source": []
  }
 ],
 "metadata": {
  "kernelspec": {
   "display_name": "Python 3",
   "language": "python",
   "name": "python3"
  },
  "language_info": {
   "codemirror_mode": {
    "name": "ipython",
    "version": 3
   },
   "file_extension": ".py",
   "mimetype": "text/x-python",
   "name": "python",
   "nbconvert_exporter": "python",
   "pygments_lexer": "ipython3",
   "version": "3.7.3"
  }
 },
 "nbformat": 4,
 "nbformat_minor": 2
}
