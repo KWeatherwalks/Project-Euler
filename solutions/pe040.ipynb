{
 "cells": [
  {
   "cell_type": "code",
   "execution_count": 52,
   "metadata": {},
   "outputs": [
    {
     "name": "stdout",
     "output_type": "stream",
     "text": [
      "488889\n"
     ]
    }
   ],
   "source": [
    "string1 = ''.join(map(str, [i for i in range(1,int(1e5))]))\n",
    "print(len(string1))\n",
    "# print(string1)"
   ]
  },
  {
   "cell_type": "markdown",
   "metadata": {},
   "source": [
    "`string1` contains digits 1 through 488,889"
   ]
  },
  {
   "cell_type": "code",
   "execution_count": 53,
   "metadata": {},
   "outputs": [
    {
     "name": "stdout",
     "output_type": "stream",
     "text": [
      "1200000\n"
     ]
    }
   ],
   "source": [
    "string2 = ''.join(map(str, [i for i in range(int(1e5), int(3e5))]))\n",
    "print(len(string2))\n",
    "# print(string2)"
   ]
  },
  {
   "cell_type": "markdown",
   "metadata": {},
   "source": [
    "`string2` contains digits 488,890 through 1,688,889"
   ]
  },
  {
   "cell_type": "code",
   "execution_count": 54,
   "metadata": {},
   "outputs": [
    {
     "data": {
      "text/plain": [
       "1688889"
      ]
     },
     "execution_count": 54,
     "metadata": {},
     "output_type": "execute_result"
    }
   ],
   "source": [
    "len(string2)+len(string1)"
   ]
  },
  {
   "cell_type": "code",
   "execution_count": 55,
   "metadata": {},
   "outputs": [],
   "source": [
    "def digit_prod():\n",
    "    product = 1\n",
    "    for i in range(6):\n",
    "        product *= int(string1[10**i-1])\n",
    "    product *= int(string2[int(1e6)-len(string1)-1])\n",
    "    return product"
   ]
  },
  {
   "cell_type": "code",
   "execution_count": 56,
   "metadata": {},
   "outputs": [
    {
     "name": "stdout",
     "output_type": "stream",
     "text": [
      "0 0 1\n",
      "1 9 1\n",
      "2 99 5\n",
      "3 999 3\n",
      "4 9999 7\n",
      "5 99999 2\n"
     ]
    }
   ],
   "source": [
    "for i in range(6):\n",
    "    print(i, 10**i-1, int(string1[10**i-1]))"
   ]
  },
  {
   "cell_type": "code",
   "execution_count": 57,
   "metadata": {},
   "outputs": [
    {
     "name": "stdout",
     "output_type": "stream",
     "text": [
      "210\n"
     ]
    }
   ],
   "source": [
    "print(digit_prod())"
   ]
  },
  {
   "cell_type": "code",
   "execution_count": null,
   "metadata": {},
   "outputs": [],
   "source": []
  }
 ],
 "metadata": {
  "kernelspec": {
   "display_name": "Python 3",
   "language": "python",
   "name": "python3"
  },
  "language_info": {
   "codemirror_mode": {
    "name": "ipython",
    "version": 3
   },
   "file_extension": ".py",
   "mimetype": "text/x-python",
   "name": "python",
   "nbconvert_exporter": "python",
   "pygments_lexer": "ipython3",
   "version": "3.7.3"
  }
 },
 "nbformat": 4,
 "nbformat_minor": 2
}
