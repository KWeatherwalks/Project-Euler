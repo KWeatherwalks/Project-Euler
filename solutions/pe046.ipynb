{
 "cells": [
  {
   "cell_type": "markdown",
   "metadata": {},
   "source": [
    "# Goldbach's other conjecture\n",
    "## Problem 46\n",
    "It was proposed by Christian Goldbach that every odd composite number can be written as the sum of a prime and twice a square.\n",
    "\n",
    "$9 = 7 + 2 \\times 1^2$  \n",
    "$15 = 7 + 2 \\times 2^2$  \n",
    "$21 = 3 + 2 \\times 3^2$  \n",
    "$25 = 7 + 2 \\times 3^2$  \n",
    "$27 = 19 + 2 \\times 2^2$  \n",
    "$33 = 31 + 2 \\times 1^2$  \n",
    "\n",
    "It turns out that the conjecture was false.\n",
    "\n",
    "What is the smallest odd composite that cannot be written as the sum of a prime and twice a square?"
   ]
  },
  {
   "cell_type": "code",
   "execution_count": 51,
   "metadata": {},
   "outputs": [
    {
     "data": {
      "text/plain": [
       "['33 = 31 + 2(1^2)',\n",
       " '33 = 5 + 2(2^2)',\n",
       " '33 = 25 + 2(2^2)',\n",
       " '33 = 3 + 2(3^2)',\n",
       " '33 = 5 + 2(3^2)',\n",
       " '33 = 15 + 2(3^2)']"
      ]
     },
     "execution_count": 51,
     "metadata": {},
     "output_type": "execute_result"
    }
   ],
   "source": [
    "# Test some cases (including nonexamples for p) just for exploration\n",
    "n = 33\n",
    "['{} = {} + 2({}^2)'.format(n,p,c) for c in range(1,n) for p in range(2,n-2*c**2+1) if 2*c**2 % p == n%p]"
   ]
  },
  {
   "cell_type": "code",
   "execution_count": 16,
   "metadata": {},
   "outputs": [],
   "source": [
    "import math\n",
    "import numpy as np"
   ]
  },
  {
   "cell_type": "code",
   "execution_count": 20,
   "metadata": {},
   "outputs": [],
   "source": [
    "def primes2(n):\n",
    "    \"\"\" Input n>=6, Returns a list of primes, 2 <= p < n \"\"\"\n",
    "    n, correction = n-n%6+6, 2-(n%6>1)\n",
    "    sieve = [True] * (n//3)\n",
    "    for i in range(1,int(n**0.5)//3+1):\n",
    "        if sieve[i]:\n",
    "            k=3*i+1|1\n",
    "            sieve[      k*k//3      ::2*k] = [False] * ((n//6-k*k//6-1)//k+1)\n",
    "            sieve[k*(k-2*(i&1)+4)//3::2*k] = [False] * ((n//6-k*(k-2*(i&1)+4)//6-1)//k+1)\n",
    "    return [2,3] + [3*i+1|1 for i in range(1,n//3-correction) if sieve[i]]"
   ]
  },
  {
   "cell_type": "code",
   "execution_count": 48,
   "metadata": {},
   "outputs": [],
   "source": [
    "def get_odd_composites_and_primes(n):\n",
    "    '''\n",
    "        Returns a list of composite numbers less than or equal to n\n",
    "        and a list of primes less than or equal to n\n",
    "    '''\n",
    "    primes = primes2(n)\n",
    "    odd_composites = list(set(list(range(3,n,2))).difference(primes))\n",
    "    return odd_composites, np.array(primes)\n",
    "\n",
    "def is_goldbach(n,c,primes):\n",
    "    '''\n",
    "        Returns True if n,p, and c satisfy the equation n = p+2c^2\n",
    "    '''\n",
    "    for p in primes[primes <= n-2*c**2]:\n",
    "        if 2*c**2 + p == n:\n",
    "            return True\n",
    "    return False"
   ]
  },
  {
   "cell_type": "code",
   "execution_count": 53,
   "metadata": {},
   "outputs": [
    {
     "data": {
      "text/plain": [
       "5777"
      ]
     },
     "execution_count": 53,
     "metadata": {},
     "output_type": "execute_result"
    }
   ],
   "source": [
    "odd_composites, primes = get_odd_composites_and_primes(N)\n",
    "\n",
    "def smallest_non_goldbach(N, odd_composites, primes):\n",
    "    for n in odd_composites:\n",
    "        max_c = math.ceil(math.sqrt((N-2)/2))\n",
    "        for c in range(1,max_c):\n",
    "            if is_goldbach(n,c,primes):\n",
    "                break\n",
    "            if c == max_c-1:\n",
    "                return n\n",
    "\n",
    "smallest_non_goldbach(10000,odd_composites, primes)"
   ]
  },
  {
   "cell_type": "code",
   "execution_count": null,
   "metadata": {},
   "outputs": [],
   "source": []
  }
 ],
 "metadata": {
  "kernelspec": {
   "display_name": "Python 3",
   "language": "python",
   "name": "python3"
  },
  "language_info": {
   "codemirror_mode": {
    "name": "ipython",
    "version": 3
   },
   "file_extension": ".py",
   "mimetype": "text/x-python",
   "name": "python",
   "nbconvert_exporter": "python",
   "pygments_lexer": "ipython3",
   "version": "3.7.3"
  }
 },
 "nbformat": 4,
 "nbformat_minor": 2
}
