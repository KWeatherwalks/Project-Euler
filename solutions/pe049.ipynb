{
 "cells": [
  {
   "cell_type": "markdown",
   "metadata": {},
   "source": [
    "# Prime permutations \n",
    "## Problem 49\n",
    "The arithmetic sequence, 1487, 4817, 8147, in which each of the terms increases by 3330, is unusual in two ways: (i) each of the three terms are prime, and, (ii) each of the 4-digit numbers are permutations of one another.\n",
    "\n",
    "There are no arithmetic sequences made up of three 1-, 2-, or 3-digit primes, exhibiting this property, but there is one other 4-digit increasing sequence.\n",
    "\n",
    "What 12-digit number do you form by concatenating the three terms in this sequence?"
   ]
  },
  {
   "cell_type": "markdown",
   "metadata": {},
   "source": [
    "### Observations\n",
    "The numbers in the sequence cannot contain a 0, since one of the 4-digit numbers would end in 0 so it would not be prime.  \n",
    "\n",
    "\n",
    "### Idea\n",
    "~~Iterate through numbers 1234 to 9876.  \n",
    "For each number, test the potential permutations with a prime test after testing the differences~~\n",
    "There are $9*8*7*6=3024$ possible combinations to test.  \n",
    "For each combination, generate a list of all permutations (24 total).  \n",
    "Test each permutation for primeness. (Can do this for the first prior to generating list)  \n",
    "Generate a matrix of differences from the remaining numbers.  \n",
    "Group numbers by differences. Find the difference which has 4\n",
    "\n",
    "#### New Idea\n",
    "Generate list of 4-digit primes under 9,999.  \n",
    "For each number in the list, "
   ]
  },
  {
   "cell_type": "code",
   "execution_count": 54,
   "metadata": {},
   "outputs": [],
   "source": [
    "import numpy as np\n",
    "from itertools import permutations\n",
    "from itertools import combinations"
   ]
  },
  {
   "cell_type": "code",
   "execution_count": 18,
   "metadata": {},
   "outputs": [],
   "source": [
    "def primes2(n):\n",
    "    \"\"\" Input n>=6, Returns a list of primes, 2 <= p < n \"\"\"\n",
    "    n, correction = n-n%6+6, 2-(n%6>1)\n",
    "    sieve = [True] * (n//3)\n",
    "    for i in range(1,int(n**0.5)//3+1):\n",
    "        if sieve[i]:\n",
    "            k=3*i+1|1\n",
    "            sieve[      k*k//3      ::2*k] = [False] * ((n//6-k*k//6-1)//k+1)\n",
    "            sieve[k*(k-2*(i&1)+4)//3::2*k] = [False] * ((n//6-k*(k-2*(i&1)+4)//6-1)//k+1)\n",
    "    return [2,3] + [3*i+1|1 for i in range(1,n//3-correction) if sieve[i]]"
   ]
  },
  {
   "cell_type": "code",
   "execution_count": 19,
   "metadata": {},
   "outputs": [],
   "source": [
    "primes = np.array(primes2(10000))"
   ]
  },
  {
   "cell_type": "code",
   "execution_count": 20,
   "metadata": {},
   "outputs": [],
   "source": [
    "primes_4digit = primes[primes>1000]"
   ]
  },
  {
   "cell_type": "code",
   "execution_count": 35,
   "metadata": {},
   "outputs": [],
   "source": [
    "p_4digit = primes_4digit[[s.find('0')==-1  for s in list(map(str, primes_4digit))]]"
   ]
  },
  {
   "cell_type": "code",
   "execution_count": 36,
   "metadata": {},
   "outputs": [
    {
     "data": {
      "text/plain": [
       "857"
      ]
     },
     "execution_count": 36,
     "metadata": {},
     "output_type": "execute_result"
    }
   ],
   "source": [
    "len(p_4digit)"
   ]
  },
  {
   "cell_type": "code",
   "execution_count": 37,
   "metadata": {},
   "outputs": [],
   "source": [
    "p_4d = list(map(str,p_4digit))"
   ]
  },
  {
   "cell_type": "code",
   "execution_count": 11,
   "metadata": {},
   "outputs": [],
   "source": [
    "def sort_seq(arr):\n",
    "    return sorted(arr)\n",
    "\n",
    "def is_arithmetic(arr):\n",
    "    ''' Takes an array and returns True if it is an arithmetic sequence. '''\n",
    "    arr = sorted(arr)\n",
    "    diff = arr[1]-arr[0]\n",
    "    for i in range(2,len(arr)):\n",
    "        if arr[i]-arr[i-1] != diff:\n",
    "            return False\n",
    "    return True\n",
    "            "
   ]
  },
  {
   "cell_type": "code",
   "execution_count": 57,
   "metadata": {},
   "outputs": [
    {
     "name": "stdout",
     "output_type": "stream",
     "text": [
      "(1487, 4817, 8147)\n",
      "(1487, 4817, 8147)\n",
      "(2969, 6299, 9629)\n",
      "(2969, 6299, 9629)\n",
      "(1487, 4817, 8147)\n",
      "(1487, 4817, 8147)\n",
      "(2969, 6299, 9629)\n",
      "(1487, 4817, 8147)\n",
      "(1487, 4817, 8147)\n",
      "(1487, 4817, 8147)\n",
      "(1487, 4817, 8147)\n",
      "(2969, 6299, 9629)\n"
     ]
    }
   ],
   "source": [
    "for s in p_4d:\n",
    "    perms = set([])\n",
    "    for p in permutations(s):\n",
    "        num_str = ''.join(p)\n",
    "        if int(num_str) in p_4digit:\n",
    "            perms.add(num_str)\n",
    "    perm_list = sorted(map(int,list(perms)))\n",
    "    if len(perm_list)>2:\n",
    "        for pm in combinations(perm_list,3):\n",
    "            if is_arithmetic(pm):\n",
    "                print(pm)"
   ]
  }
 ],
 "metadata": {
  "kernelspec": {
   "display_name": "Python 3",
   "language": "python",
   "name": "python3"
  },
  "language_info": {
   "codemirror_mode": {
    "name": "ipython",
    "version": 3
   },
   "file_extension": ".py",
   "mimetype": "text/x-python",
   "name": "python",
   "nbconvert_exporter": "python",
   "pygments_lexer": "ipython3",
   "version": "3.7.3"
  }
 },
 "nbformat": 4,
 "nbformat_minor": 2
}
