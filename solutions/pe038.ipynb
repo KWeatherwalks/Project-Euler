{
 "cells": [
  {
   "cell_type": "markdown",
   "metadata": {},
   "source": [
    "# Pandigital multiples\n",
    "   \n",
    "## Problem 38\n",
    "Take the number 192 and multiply it by each of 1, 2, and 3:  \n",
    "\n",
    "192 × 1 = 192  \n",
    "192 × 2 = 384  \n",
    "192 × 3 = 576  \n",
    "By concatenating each product we get the 1 to 9 pandigital, 192384576. We will call 192384576 the concatenated product of 192 and (1,2,3)  \n",
    "\n",
    "The same can be achieved by starting with 9 and multiplying by 1, 2, 3, 4, and 5, giving the pandigital, 918273645, which is the concatenated product of 9 and (1,2,3,4,5).  \n",
    "\n",
    "What is the largest 1 to 9 pandigital 9-digit number that can be formed as the concatenated product of an integer with (1,2, ... , n) where n > 1?  "
   ]
  },
  {
   "cell_type": "markdown",
   "metadata": {},
   "source": [
    "### Thinking about the problem \n",
    "We can generalize the problem by introducing some helpful notation.  \n",
    "Let $\\oplus$ be the concatenation operator and $[n]$ denote the *n-set*, that is the integers 1,2,...,n. \n",
    "\n",
    "$$a [n] = a\\cdot 1 \\oplus a\\cdot 2 \\oplus \\dots \\oplus a \\cdot n$$\n",
    "\n",
    "This structure suggests that a nested loop approach could solve the problem. But we need to have a way to exit the loops."
   ]
  },
  {
   "cell_type": "markdown",
   "metadata": {},
   "source": [
    "#### Upper Bounds \n",
    "We can place bounds on the numbers $a$ and $n$ so that nested `for` loops become feasible.    \n",
    "\n",
    "A pandigital number, by definition, uses exactly 9 digits. So the maximum that $n$ can be is 9. This upper bound can likely be reduced, but let's stick with it for now.  \n",
    "\n",
    "Multiplying a 4-digit number by 2 will produce either a 4- or 5-digit number. In fact, if $a=9876$ and $n=2$ then the concatenated number will be a 9-digit number (but not pandigital). From this, we conclude that $a<9876$\n",
    "\n",
    "We can place an upper bound on $n$ by noticing that $a$ must be a 2-digit number\n",
    "Thus, our nested loop will run less than $10^5$ times. Using python, we may be able to make this run efficiently enough to solve this problem within a minute. "
   ]
  },
  {
   "cell_type": "markdown",
   "metadata": {},
   "source": [
    "## Solution"
   ]
  },
  {
   "cell_type": "code",
   "execution_count": 3,
   "metadata": {},
   "outputs": [],
   "source": [
    "def get_pandigital(a,n):\n",
    "    pan_str = ''\n",
    "    for i in range(n):\n",
    "        pan_str += str(a*(i+1))\n",
    "    return pan_str"
   ]
  },
  {
   "cell_type": "code",
   "execution_count": 4,
   "metadata": {},
   "outputs": [
    {
     "data": {
      "text/plain": [
       "'192384576'"
      ]
     },
     "execution_count": 4,
     "metadata": {},
     "output_type": "execute_result"
    }
   ],
   "source": [
    "get_pandigital(192,3)"
   ]
  },
  {
   "cell_type": "code",
   "execution_count": 29,
   "metadata": {},
   "outputs": [],
   "source": [
    "def is_pandigital(num_str):\n",
    "    digit_set = set([str(i) for i in (range(1,10))])\n",
    "    candidate_set = set(list(num_str))\n",
    "    if (len(num_str) != 9):\n",
    "        return False\n",
    "    elif (digit_set == candidate_set):\n",
    "        return True\n",
    "    else:\n",
    "        return False"
   ]
  },
  {
   "cell_type": "code",
   "execution_count": 40,
   "metadata": {},
   "outputs": [
    {
     "name": "stdout",
     "output_type": "stream",
     "text": [
      " a  n pandigital\n",
      "192 3 192384576\n",
      "219 3 219438657\n",
      "273 3 273546819\n",
      "327 3 327654981\n",
      "6729 2 672913458\n",
      "6792 2 679213584\n",
      "6927 2 692713854\n",
      "7269 2 726914538\n",
      "7293 2 729314586\n",
      "7329 2 732914658\n",
      "7692 2 769215384\n",
      "7923 2 792315846\n",
      "7932 2 793215864\n",
      "9267 2 926718534\n",
      "9273 2 927318546\n",
      "9327 2 932718654\n",
      "Max pandigital after concatenation is 932718654\n"
     ]
    }
   ],
   "source": [
    "max_pandigital = 0\n",
    "print(' a ', 'n', 'pandigital')\n",
    "for a in range(1,9876):\n",
    "    for n in range(1,5):\n",
    "        temp_str = get_pandigital(a,n)\n",
    "        if is_pandigital(temp_str) and (int(temp_str)>max_pandigital):\n",
    "            max_pandigital = int(temp_str)\n",
    "            print(a, n, max_pandigital)\n",
    "print('Max pandigital after concatenation is {}'.format(max_pandigital))"
   ]
  },
  {
   "cell_type": "code",
   "execution_count": null,
   "metadata": {},
   "outputs": [],
   "source": []
  }
 ],
 "metadata": {
  "kernelspec": {
   "display_name": "Python 3",
   "language": "python",
   "name": "python3"
  },
  "language_info": {
   "codemirror_mode": {
    "name": "ipython",
    "version": 3
   },
   "file_extension": ".py",
   "mimetype": "text/x-python",
   "name": "python",
   "nbconvert_exporter": "python",
   "pygments_lexer": "ipython3",
   "version": "3.7.3"
  }
 },
 "nbformat": 4,
 "nbformat_minor": 2
}
