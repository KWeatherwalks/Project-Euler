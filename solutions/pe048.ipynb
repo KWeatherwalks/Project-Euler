{
 "cells": [
  {
   "cell_type": "markdown",
   "metadata": {},
   "source": [
    "# Self powers\n",
    "## Problem 48\n",
    "\n",
    "The series, $1^1 + 2^2 + 3^3 + ... + 10^{10} = 10405071317$.\n",
    "\n",
    "Find the last ten digits of the series, $11 + 22 + 33 + ... + 1000^{1000}$."
   ]
  },
  {
   "cell_type": "code",
   "execution_count": 6,
   "metadata": {},
   "outputs": [
    {
     "name": "stdout",
     "output_type": "stream",
     "text": [
      "9110846700\n"
     ]
    }
   ],
   "source": [
    "N = 1000\n",
    "s = 0\n",
    "for i in range(1,N+1):\n",
    "    a,n,r = i,i,1\n",
    "    while n>1:\n",
    "        if n%2==0:\n",
    "            n = n/2\n",
    "            a = pow(a,2) % pow(10,10)\n",
    "        else:\n",
    "            n = (n-1)/2\n",
    "            r *= a % pow(10,10)\n",
    "            a = pow(a,2) % pow(10,10)\n",
    "    s = (s+a*r)%pow(10,10)\n",
    "print(s)"
   ]
  },
  {
   "cell_type": "code",
   "execution_count": null,
   "metadata": {},
   "outputs": [],
   "source": []
  }
 ],
 "metadata": {
  "kernelspec": {
   "display_name": "Python 3",
   "language": "python",
   "name": "python3"
  },
  "language_info": {
   "codemirror_mode": {
    "name": "ipython",
    "version": 3
   },
   "file_extension": ".py",
   "mimetype": "text/x-python",
   "name": "python",
   "nbconvert_exporter": "python",
   "pygments_lexer": "ipython3",
   "version": "3.7.3"
  }
 },
 "nbformat": 4,
 "nbformat_minor": 2
}
