{
 "cells": [
  {
   "cell_type": "markdown",
   "metadata": {},
   "source": [
    "# Pandigital prime\n",
    "   \n",
    "## Problem 41\n",
    "We shall say that an $n$-digit number is pandigital if it makes use of all the digits 1 to $n$ exactly once. For example, $2143$ is a 4-digit pandigital and is also prime.\n",
    "\n",
    "What is the largest $n$-digit pandigital prime that exists?"
   ]
  },
  {
   "cell_type": "markdown",
   "metadata": {},
   "source": [
    "### The Sieve of Erathosthenes\n",
    "-  Take a list of numbers 1 through $N$.\n",
    "-  Remove all multiples of 2\n",
    "-  Remove all multiples of 3\n",
    "-  ...\n",
    "-  Remove all multiples of $\\lfloor N/2\\rfloor$"
   ]
  },
  {
   "cell_type": "code",
   "execution_count": 32,
   "metadata": {},
   "outputs": [],
   "source": [
    "import math\n",
    "def sieve_of_eratosthenes(n):\n",
    "    numbers = list(range(2,n+1))\n",
    "    primes = []\n",
    "    while len(numbers)>0:\n",
    "        p = numbers.pop(0)\n",
    "        primes.append(p)\n",
    "        for i in range(2,n//p+1):\n",
    "            multiple = i*p\n",
    "            if multiple in numbers:\n",
    "                numbers.remove(i*p)\n",
    "    return primes"
   ]
  },
  {
   "cell_type": "markdown",
   "metadata": {},
   "source": [
    "Courtesy of Robert William Hanks:\n",
    "https://stackoverflow.com/questions/2068372/fastest-way-to-list-all-primes-below-n/3035188#3035188"
   ]
  },
  {
   "cell_type": "code",
   "execution_count": 1,
   "metadata": {},
   "outputs": [],
   "source": [
    "def primes2(n):\n",
    "    \"\"\" Input n>=6, Returns a list of primes, 2 <= p < n \"\"\"\n",
    "    n, correction = n-n%6+6, 2-(n%6>1)\n",
    "    sieve = [True] * (n//3)\n",
    "    for i in range(1,int(n**0.5)//3+1):\n",
    "        if sieve[i]:\n",
    "            k=3*i+1|1\n",
    "            sieve[      k*k//3      ::2*k] = [False] * ((n//6-k*k//6-1)//k+1)\n",
    "            sieve[k*(k-2*(i&1)+4)//3::2*k] = [False] * ((n//6-k*(k-2*(i&1)+4)//6-1)//k+1)\n",
    "    return [2,3] + [3*i+1|1 for i in range(1,n//3-correction) if sieve[i]]"
   ]
  },
  {
   "cell_type": "code",
   "execution_count": 18,
   "metadata": {},
   "outputs": [],
   "source": [
    "primes_list = primes2(1000_000_000)"
   ]
  },
  {
   "cell_type": "code",
   "execution_count": 20,
   "metadata": {},
   "outputs": [
    {
     "data": {
      "text/plain": [
       "999999937"
      ]
     },
     "execution_count": 20,
     "metadata": {},
     "output_type": "execute_result"
    }
   ],
   "source": [
    "primes_list[-1]"
   ]
  },
  {
   "cell_type": "markdown",
   "metadata": {},
   "source": [
    "### Pandigital prime candidates\n",
    "Number Theory shows that primes cannot end in a 2, 4, 5, 6, 8, or 0.  \n",
    "So we can rule those digits out and focus on building pandigital strings that end in 1, 3, 7, or 9.\n",
    "Also, the sum of digits cannot be divisible by 3.\n",
    "So, thinking about the possible outcomes..."
   ]
  },
  {
   "cell_type": "code",
   "execution_count": 29,
   "metadata": {},
   "outputs": [
    {
     "name": "stdout",
     "output_type": "stream",
     "text": [
      "2 3 True\n",
      "3 6 True\n",
      "4 10 False\n",
      "5 15 True\n",
      "6 21 True\n",
      "7 28 False\n",
      "8 36 True\n",
      "9 45 True\n"
     ]
    }
   ],
   "source": [
    "for i in range(2,10):\n",
    "    print(i, sum(range(i+1)), sum(range(i+1))% 3 == 0)"
   ]
  },
  {
   "cell_type": "markdown",
   "metadata": {},
   "source": [
    "From this, we know that the only possible choices for $n$ are 4 and 7.  \n",
    "If we find a 7-digit prime with the pandigital property, we will be done. If we find more than one, we must give the maximum."
   ]
  },
  {
   "cell_type": "code",
   "execution_count": 30,
   "metadata": {},
   "outputs": [],
   "source": [
    "import itertools as it"
   ]
  },
  {
   "cell_type": "code",
   "execution_count": 57,
   "metadata": {},
   "outputs": [
    {
     "name": "stdout",
     "output_type": "stream",
     "text": [
      "<class 'str'> 12\n"
     ]
    }
   ],
   "source": [
    "perms = []\n",
    "for p in it.permutations(set('12')):\n",
    "    perms.append(''.join(p))\n",
    "print(type(perms[1]), perms[1])"
   ]
  },
  {
   "cell_type": "code",
   "execution_count": 62,
   "metadata": {},
   "outputs": [
    {
     "data": {
      "text/plain": [
       "{'2', '3', '4', '5', '6', '7', '8', '9'}"
      ]
     },
     "execution_count": 62,
     "metadata": {},
     "output_type": "execute_result"
    }
   ],
   "source": [
    "set('123456789').difference(set('1'))"
   ]
  },
  {
   "cell_type": "code",
   "execution_count": 145,
   "metadata": {},
   "outputs": [],
   "source": [
    "def pandigital_primes(n):\n",
    "    digits = '123456789'\n",
    "    bad_digits = '24568'\n",
    "#     pan_primes = []\n",
    "    \n",
    "    last_digits = ''.join((set(digits[:n]).difference(set(bad_digits))))\n",
    "    print(last_digits)\n",
    "    max_pan = 7;\n",
    "    for i in range(len(last_digits)):\n",
    "        iterator = it.permutations(set(digits[:n]).difference(set(last_digits[i])))\n",
    "        for p in iterator:\n",
    "            number = int(''.join(p) + last_digits[i])\n",
    "            if (number in primes_list) and (number>max_pan):\n",
    "                max_pan = number\n",
    "#                 pan_primes.append(number)\n",
    "\n",
    "    return max_pan\n",
    "#     return pan_primes"
   ]
  },
  {
   "cell_type": "markdown",
   "metadata": {},
   "source": [
    "### Brute force approach\n",
    "We have a loose upper bound on the pandigital number (7654321). So we can look for the first number which is both pandigital and prime that is less than our upper bound."
   ]
  },
  {
   "cell_type": "code",
   "execution_count": 198,
   "metadata": {},
   "outputs": [],
   "source": [
    "def isPandigital(number):\n",
    "    digits = '123456789'\n",
    "    num = ''.join(sorted(list(str(number))))\n",
    "    if (num == digits[:len(num)]):\n",
    "        return True\n",
    "    else:\n",
    "        return False"
   ]
  },
  {
   "cell_type": "code",
   "execution_count": 199,
   "metadata": {},
   "outputs": [
    {
     "data": {
      "text/plain": [
       "True"
      ]
     },
     "execution_count": 199,
     "metadata": {},
     "output_type": "execute_result"
    }
   ],
   "source": [
    "isPandigital(2314)"
   ]
  },
  {
   "cell_type": "code",
   "execution_count": 200,
   "metadata": {},
   "outputs": [],
   "source": [
    "p_list = primes2(7654321)\n",
    "def isPrime(number):\n",
    "    return number in p_list"
   ]
  },
  {
   "cell_type": "code",
   "execution_count": 201,
   "metadata": {},
   "outputs": [],
   "source": [
    "def max_pandigital():\n",
    "    for num in range(7654321,1,-1):\n",
    "        if isPandigital(num) & isPrime(num):\n",
    "            return num"
   ]
  },
  {
   "cell_type": "code",
   "execution_count": 202,
   "metadata": {},
   "outputs": [
    {
     "data": {
      "text/plain": [
       "7652413"
      ]
     },
     "execution_count": 202,
     "metadata": {},
     "output_type": "execute_result"
    }
   ],
   "source": [
    "max_pandigital()"
   ]
  }
 ],
 "metadata": {
  "kernelspec": {
   "display_name": "Python 3",
   "language": "python",
   "name": "python3"
  },
  "language_info": {
   "codemirror_mode": {
    "name": "ipython",
    "version": 3
   },
   "file_extension": ".py",
   "mimetype": "text/x-python",
   "name": "python",
   "nbconvert_exporter": "python",
   "pygments_lexer": "ipython3",
   "version": "3.7.3"
  }
 },
 "nbformat": 4,
 "nbformat_minor": 2
}
